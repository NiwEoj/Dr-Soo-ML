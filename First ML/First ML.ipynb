{
 "cells": [
  {
   "cell_type": "code",
   "execution_count": 72,
   "id": "8bf6d7ed",
   "metadata": {
    "tags": []
   },
   "outputs": [],
   "source": [
    "%matplotlib inline\n",
    "\n",
    "import numpy as np\n",
    "import pandas as pd\n",
    "import matplotlib.pyplot as plt\n",
    "import seaborn as sns \n",
    "from pyfuncs import *\n",
    "sns.set_style(\"darkgrid\")\n",
    "\n",
    "from sklearn.preprocessing import StandardScaler  \n",
    "from sklearn.linear_model import LinearRegression\n",
    "from sklearn.neural_network import MLPRegressor\n",
    "from astropy.io import fits\n",
    "from astropy.table import Table\n",
    "from IPython.display import display \n",
    "from pathlib import Path\n",
    "import os\n",
    "import PySimpleGUI as sg\n",
    "import winsound, cellbell, joblib"
   ]
  },
  {
   "cell_type": "markdown",
   "id": "3825feac-e41f-43ad-9178-5f1c547c33af",
   "metadata": {
    "slideshow": {
     "slide_type": "notes"
    },
    "tags": []
   },
   "source": [
    "# Read and prepare training data\n",
    "Data is splitted into smaller batches and then standardised"
   ]
  },
  {
   "cell_type": "code",
   "execution_count": 63,
   "id": "37d9ab96",
   "metadata": {
    "scrolled": true,
    "tags": []
   },
   "outputs": [
    {
     "name": "stdout",
     "output_type": "stream",
     "text": [
      "Dataset has been splitted into 2 batches of 10000 .\n"
     ]
    }
   ],
   "source": [
    "# name of file of training data\n",
    "filename = 'Test1.fits'\n",
    "\n",
    "# format name (see astropy.Table documentation for more details)\n",
    "f = 'fits'\n",
    "\n",
    "# batch size\n",
    "bsize = 10000\n",
    "\n",
    "# number of batches\n",
    "n = 2\n",
    "\n",
    "dat = Table.read(filename, format=f)\n",
    "df = dat.to_pandas()\n",
    "if (n <= int(len(df)/bsize)) & (n > 0):\n",
    "    dataset = np.empty(n, dtype=object)\n",
    "    datasetX = np.empty(n, dtype=object)\n",
    "    datasetY = np.empty(n, dtype=object)\n",
    "\n",
    "\n",
    "    for i in range(n):\n",
    "        dataset[i] = df[(np.array(range(len(df))) % n == i) & (df.index < (bsize*n))]\n",
    "        dataset[i].reset_index(drop=True,inplace=True)\n",
    "        datasetX[i] = pd.DataFrame(dataset[i][['dered_u','dered_g','dered_r','dered_i','dered_z']],columns = ['dered_u','dered_g','dered_r','dered_i','dered_z'])\n",
    "        datasetY[i] = dataset[i]['z']\n",
    "    print('Dataset has been splitted into', n, 'batches of', bsize, '.')\n",
    "else:\n",
    "    winsound.PlaySound(\"SystemHand\", winsound.SND_ALIAS)\n",
    "    print('ERROR!! - bsize*n > length of data loaded! Please decrease either n or bsize and try again.')"
   ]
  },
  {
   "cell_type": "markdown",
   "id": "2cd21d0e-6f8e-4121-8bb4-f33947d503eb",
   "metadata": {
    "tags": []
   },
   "source": [
    "# Start training!\n",
    "The code below will save your predicted data and MLP model in a local save file"
   ]
  },
  {
   "cell_type": "code",
   "execution_count": 297,
   "id": "f181bf71-5be6-471d-941b-b3b25bf49dfb",
   "metadata": {
    "tags": []
   },
   "outputs": [
    {
     "data": {
      "text/html": [
       "<div>\n",
       "<style scoped>\n",
       "    .dataframe tbody tr th:only-of-type {\n",
       "        vertical-align: middle;\n",
       "    }\n",
       "\n",
       "    .dataframe tbody tr th {\n",
       "        vertical-align: top;\n",
       "    }\n",
       "\n",
       "    .dataframe thead th {\n",
       "        text-align: right;\n",
       "    }\n",
       "</style>\n",
       "<table border=\"1\" class=\"dataframe\">\n",
       "  <thead>\n",
       "    <tr style=\"text-align: right;\">\n",
       "      <th></th>\n",
       "      <th>Score</th>\n",
       "      <th>Loss</th>\n",
       "      <th>ypredict</th>\n",
       "      <th>Hidden layer size</th>\n",
       "      <th>Random state</th>\n",
       "      <th>Training data</th>\n",
       "    </tr>\n",
       "  </thead>\n",
       "  <tbody>\n",
       "    <tr>\n",
       "      <th>0</th>\n",
       "      <td>-125.702797</td>\n",
       "      <td>0.000057</td>\n",
       "      <td>[0.016041991817433727, 0.015143903795784706, 0...</td>\n",
       "      <td>(100, 100, 100)</td>\n",
       "      <td>33</td>\n",
       "      <td>dataset 0</td>\n",
       "    </tr>\n",
       "    <tr>\n",
       "      <th>1</th>\n",
       "      <td>-155.935813</td>\n",
       "      <td>0.000056</td>\n",
       "      <td>[0.014706024477543211, 0.017278657452011202, 0...</td>\n",
       "      <td>(100, 100, 100)</td>\n",
       "      <td>33</td>\n",
       "      <td>dataset 1</td>\n",
       "    </tr>\n",
       "  </tbody>\n",
       "</table>\n",
       "</div>"
      ],
      "text/plain": [
       "        Score      Loss                                           ypredict  \\\n",
       "0 -125.702797  0.000057  [0.016041991817433727, 0.015143903795784706, 0...   \n",
       "1 -155.935813  0.000056  [0.014706024477543211, 0.017278657452011202, 0...   \n",
       "\n",
       "  Hidden layer size  Random state Training data  \n",
       "0   (100, 100, 100)            33     dataset 0  \n",
       "1   (100, 100, 100)            33     dataset 1  "
      ]
     },
     "metadata": {},
     "output_type": "display_data"
    }
   ],
   "source": [
    "%%ding\n",
    "# change parameters for the regressor model here (see sklearn.mlpregressor documentation for details)\n",
    "# \"hidden layer size\" parameter is listed further below as hddlsz \n",
    "mlp = MLPRegressor(activation='relu', solver='adam',batch_size='auto', random_state = 33)\n",
    "\n",
    "# nt is the percentage of data used for training (input should be a float between 0 and 1) \n",
    "# the rest is use for testing\n",
    "tperc = 0.7\n",
    "\n",
    "# number of random states used\n",
    "rdnum = 1\n",
    "\n",
    "# which predicted data file to read from (if file doesn't exist or left blank, a blank DataFrame is created instead)\n",
    "# even if left blank, '' must be present\n",
    "fread = ''\n",
    "\n",
    "# which file to write to (if file doesn't exist, a file with same name will be created)\n",
    "# DO NOT FORGET THE FILENAME EXTENSION \".json\"!!\n",
    "fwrite = 'Test1 results/NewData (relu, adam).json'\n",
    "\n",
    "# name of folder to save all MLP models\n",
    "mlpfolder = 'MLP models and scalers 1'\n",
    "\n",
    "# list of hidden layer sizes. Each hidden layer size should be in the data type \"tuple\".\n",
    "# multiple hidden layer sizes can be put together in a List so that the code runs through all of them\n",
    "# i.e. [(1,1,1),(2,2),...]; for a single tuple, write [(20,20,20)]\n",
    "hddlsz = [(100,100,100)]\n",
    "#[(100,100,100),(100,100),(100),(50,50,50),(50,50),(50),(25,25,25),(25,25),(25),(10,10,10),(10,10),(10),(5,5,5),(5,5),(5)]\n",
    "\n",
    "\n",
    "randst = mlp.random_state\n",
    "try:\n",
    "    mdata = pd.read_json(fwrite) \n",
    "except:\n",
    "    event = 'Proceed'\n",
    "else:\n",
    "    if fread == fwrite:\n",
    "        winsound.PlaySound(\"SystemHand\", winsound.SND_ALIAS)\n",
    "        event, values = sg.Window('WARNING',\n",
    "                      [[sg.T('WARNING - fread = fwrite! Proceeding will add current data to ' + fread + '!')],\n",
    "                      [sg.B('Proceed'), sg.B('Cancel') ]]).read(close=True)\n",
    "    else:\n",
    "        winsound.PlaySound(\"SystemHand\", winsound.SND_ALIAS)\n",
    "        event, values = sg.Window('WARNING',\n",
    "                      [[sg.T('WARNING - ' + fwrite + ' already exist! Proceeding will overwrite the data in ' + fwrite + '!')],\n",
    "                      [sg.B('Proceed'), sg.B('Cancel') ]]).read(close=True)\n",
    "\n",
    "if (Path('Saved models and scalers/' + mlpfolder).is_dir() == True) & (event == 'Proceed'):\n",
    "    winsound.PlaySound(\"SystemHand\", winsound.SND_ALIAS)\n",
    "    event1, values1 = sg.Window('WARNING',\n",
    "                      [[sg.T('WARNING - ' + mlpfolder + ' already exist! Proceeding might overwrite all the files in ' + mlpfolder + '!')],\n",
    "                      [sg.B('Proceed'), sg.B('Cancel') ]]).read(close=True)\n",
    "else: \n",
    "    event1 = 'Proceed'\n",
    "        \n",
    "try:\n",
    "    mdata = pd.read_json(fread)\n",
    "except:\n",
    "    mdata = pd.DataFrame()\n",
    "\n",
    "if (event == 'Proceed') & (event1 == 'Proceed'):   \n",
    "    lenX = len(datasetX)\n",
    "    nt = int(tperc*len(datasetX[0])) - 1\n",
    "    if (Path('Saved models and scalers').is_dir() == True):\n",
    "        pass\n",
    "    else: \n",
    "        os.mkdir('Saved models and scalers', mode=0o666)\n",
    "    if Path('Saved models and scalers/' + mlpfolder).is_dir() == True:\n",
    "        pass\n",
    "    else:\n",
    "        os.mkdir('Saved models and scalers/' + mlpfolder, mode=0o666)\n",
    "    for x in hddlsz:\n",
    "        mlp.hidden_layer_sizes = x\n",
    "        trainX = np.empty(lenX,dtype=object)\n",
    "        testX = np.empty(lenX,dtype=object)\n",
    "        trainY = np.empty(lenX,dtype=object)\n",
    "        testY = np.empty(lenX,dtype=object)\n",
    "        for i in range(lenX):   \n",
    "            scaler = StandardScaler()\n",
    "            trainX[i] = scaler.fit_transform(datasetX[i].loc[:nt])\n",
    "            testX[i] = scaler.transform(datasetX[i].loc[nt+1:])\n",
    "            trainY[i] = datasetY[i].loc[:nt]\n",
    "            testY[i] = datasetY[i].loc[nt+1:]\n",
    "            filename = 'Saved models and scalers/' + mlpfolder + '/' + 'Scaler - ' + str(mlp.hidden_layer_sizes) + ', ' + 'str(mlp.solver)' + ', '+ str(mlp.activation) + ', ' + dataname[i] + '.pkl'\n",
    "            joblib.dump(scaler, filename)\n",
    "            score = np.empty(rdnum,dtype=object)\n",
    "            loss = np.empty(rdnum,dtype=object)\n",
    "            ypredict = np.empty(rdnum,dtype=object)\n",
    "            for k in range(rdnum):\n",
    "                mlp.random_state = randst + k\n",
    "                mlp.fit(trainX[i],datasetY[i].loc[:nt])\n",
    "                loss[k] = mlp.loss_\n",
    "                filename = 'Saved models and scalers/' + mlpfolder + '/' + 'MLP - ' + str(mlp.hidden_layer_sizes) + ', ' + 'str(mlp.solver)' + ', '+ str(mlp.activation) + ', ' + dataname[i] + ', random state ' + str(mlp.random_state) + '.pkl'\n",
    "                joblib.dump(mlp, filename)\n",
    "                score[k] = mlp.score(testX[i],datasetY[i].loc[nt+1:])\n",
    "                ypredict[k] = mlp.predict(testX[i])\n",
    "\n",
    "\n",
    "            loss = loss[:,np.newaxis]\n",
    "            score = score[:,np.newaxis]\n",
    "            ypredict = ypredict[:,np.newaxis]\n",
    "            comb = np.concatenate((score,loss,ypredict),axis=1)\n",
    "            comb = pd.DataFrame(data = comb, columns = ['Score','Loss','ypredict'])\n",
    "            comb['Hidden layer size'] = [mlp.hidden_layer_sizes]*rdnum\n",
    "            comb['Random state'] = list(range(randst,mlp.random_state + 1))\n",
    "            comb['Training data'] = ['dataset ' + str(i)]*rdnum\n",
    "            mdata = mdata.append(comb, ignore_index = True)\n",
    "\n",
    "    pd.DataFrame(mdata).to_json(fwrite)\n",
    "    display(mdata)\n",
    "else:\n",
    "    print('Process has been stopped.')"
   ]
  },
  {
   "cell_type": "code",
   "execution_count": 291,
   "id": "77f12b42-9727-458c-9339-b5d93abbc7b1",
   "metadata": {},
   "outputs": [
    {
     "data": {
      "text/plain": [
       "[0, 1, 2, 3, 4]"
      ]
     },
     "execution_count": 291,
     "metadata": {},
     "output_type": "execute_result"
    }
   ],
   "source": [
    "list(range(5))"
   ]
  },
  {
   "cell_type": "markdown",
   "id": "7c01b733-cda6-4aa2-b664-d912141cb98c",
   "metadata": {},
   "source": [
    "# Read file (.json file that is generated by the MLP above)"
   ]
  },
  {
   "cell_type": "code",
   "execution_count": 298,
   "id": "2ba4fb01-312f-45ef-88e6-9a989d63cdc4",
   "metadata": {},
   "outputs": [],
   "source": [
    "# name/path of file that will be read \n",
    "fread = 'Test1 results/NewData (relu, adam).json'\n",
    "\n",
    "mdata = pd.read_json(fread)"
   ]
  },
  {
   "cell_type": "markdown",
   "id": "f47b7c52-6f53-4685-8301-9fa451008f0b",
   "metadata": {},
   "source": [
    "# Plot histogram of each different hidden layer size configuration"
   ]
  },
  {
   "cell_type": "code",
   "execution_count": null,
   "id": "d21b1ba1-a3e5-4ca7-bc46-d54aafc7eef3",
   "metadata": {},
   "outputs": [],
   "source": [
    "# size of subplot (row*column must be >= number of different hidden layer size configurations)\n",
    "row = 5\n",
    "column = 4\n",
    "\n",
    "fig, ax = plt.subplots(row,column, figsize = (20,30))\n",
    "fig.suptitle(fread, fontsize = 20) \n",
    "n = 0\n",
    "a = sortHLS(mdata)\n",
    "num = len(a)\n",
    "\n",
    "for i in range(row):\n",
    "    for j in range(column):\n",
    "        if n < num:\n",
    "            sns.histplot(data = mdata['Score'].loc[a[n]], binwidth = 0.05, fill = False, ax = ax[i,j])\n",
    "            title = 'Hidden layer size ' + str(mdata['Hidden layer size'].loc[a[n][0]])\n",
    "            ax[i,j].set_title(title)\n",
    "            ax[i,j].set_label('Coefficient of determination')\n",
    "            ax[i,j].set_ylim(0,20)\n",
    "            ax[i,j].set_xlim(0,1)\n",
    "            n = n + 1\n",
    "\n",
    "plt.show()"
   ]
  },
  {
   "cell_type": "markdown",
   "id": "4236f5ac-3046-4a8b-ad45-1389a1c1bfb8",
   "metadata": {},
   "source": [
    "# Mean score (coefficient of determination) of each hidden layer size configuration"
   ]
  },
  {
   "cell_type": "code",
   "execution_count": 286,
   "id": "4066f14b-a7b0-4501-bd4c-b43c489f216d",
   "metadata": {},
   "outputs": [
    {
     "data": {
      "text/html": [
       "<div>\n",
       "<style scoped>\n",
       "    .dataframe tbody tr th:only-of-type {\n",
       "        vertical-align: middle;\n",
       "    }\n",
       "\n",
       "    .dataframe tbody tr th {\n",
       "        vertical-align: top;\n",
       "    }\n",
       "\n",
       "    .dataframe thead th {\n",
       "        text-align: right;\n",
       "    }\n",
       "</style>\n",
       "<table border=\"1\" class=\"dataframe\">\n",
       "  <thead>\n",
       "    <tr style=\"text-align: right;\">\n",
       "      <th></th>\n",
       "      <th>Hidden layer size</th>\n",
       "      <th>Score</th>\n",
       "    </tr>\n",
       "  </thead>\n",
       "  <tbody>\n",
       "    <tr>\n",
       "      <th>0</th>\n",
       "      <td>[100, 100, 100]</td>\n",
       "      <td>-140.819305</td>\n",
       "    </tr>\n",
       "  </tbody>\n",
       "</table>\n",
       "</div>"
      ],
      "text/plain": [
       "  Hidden layer size       Score\n",
       "0   [100, 100, 100] -140.819305"
      ]
     },
     "metadata": {},
     "output_type": "display_data"
    }
   ],
   "source": [
    "\n",
    "a = sortHLS(mdata)\n",
    "num = len(a)\n",
    "Mean = pd.DataFrame()\n",
    "for n in range(num):\n",
    "    b = mdata[['Score']].loc[a[n]].mean().T\n",
    "    b['Hidden layer size'] = mdata['Hidden layer size'].loc[a[n][0]]\n",
    "    Mean = Mean.append(b,ignore_index=True)\n",
    "display(Mean)"
   ]
  },
  {
   "cell_type": "markdown",
   "id": "bc9257ce-b8ba-42d9-9fe2-20e0427d5db3",
   "metadata": {},
   "source": [
    "# Plot graph of predicted data VS sample data "
   ]
  },
  {
   "cell_type": "code",
   "execution_count": 303,
   "id": "f5827ea3-057d-4725-8bad-eb66cf5159ed",
   "metadata": {},
   "outputs": [
    {
     "data": {
      "image/png": "[encoded data removed]",
      "text/plain": [
       "<Figure size 1440x2160 with 4 Axes>"
      ]
     },
     "metadata": {},
     "output_type": "display_data"
    }
   ],
   "source": [
    "# size of subplot\n",
    "row = 2\n",
    "column = 2\n",
    "\n",
    "# random state of mlp\n",
    "rdst = 33\n",
    "\n",
    "# training dataset of mlp\n",
    "Tdata = 0\n",
    "\n",
    "# number of different random states in mdata\n",
    "rdnum = 5\n",
    "\n",
    "fig, ax = plt.subplots(row,column, figsize = (20,30))\n",
    "fig.suptitle(fread, fontsize = 20)\n",
    "n = 0\n",
    "a = sortHLS(mdata)\n",
    "num = len(a) \n",
    "crit = mdata[(mdata['Random state'] == rdst) & (mdata['Training data'] == ('dataset ' + str(Tdata)))] \n",
    "indx = crit.index\n",
    "\n",
    "for i in range(row):\n",
    "    for j in range(column):\n",
    "        if n < num:\n",
    "            ax[i,j].scatter(testY[Tdata], crit.loc[indx[n], 'ypredict'], s = 10)\n",
    "            m, b = np.polyfit(testY[Tdata], crit.loc[indx[n], 'ypredict'], 1)\n",
    "            ax[i,j].plot(testY[Tdata], m * testY[Tdata] + b, color = 'green')\n",
    "            title = 'Hidden layer size ' + str(mdata['Hidden layer size'].loc[indx[n]])\n",
    "            ax[i,j].set_title(title)\n",
    "            #ax[i,j].set_xlim(0,1)\n",
    "            #ax[i,j].set_ylim(0,1)\n",
    "            n = n + 1\n",
    "            \n",
    "plt.show()"
   ]
  },
  {
   "cell_type": "markdown",
   "id": "be88356a-6d21-4add-9a67-6c8024861c87",
   "metadata": {
    "tags": []
   },
   "source": [
    "# Notes\n",
    "## relu adam\n",
    "performs better with more layers and nodes. Best performance could be seen in (100,100,100) with a score of ~0.75.\n",
    "Worst performer is (5) with a score of ~0.50\n",
    "\n",
    "## logistic adam\n",
    "performs better with less layers and more nodes. Best performance could be seen in (100) with a score of ~0.60.\n",
    "Worst performer is (5,5,5) with a score of ~0.23\n",
    "\n",
    "## tanh adam\n",
    "performs better with more layers and nodes. However, the top performers, (100,100,100), (50,50,50) and (25,25,25) performs almost equally well with a score of ~0.70. \n",
    "Worst performer is (5) with a score of ~-0.23\n",
    "\n",
    "## relu sgd\n",
    "performs better with more layers and nodes. However, overall perfomance is very very bad, with the best score being 0.38 and the worst being ~-1.07\n",
    "\n",
    "## logistic sgd\n",
    "performs better with less layers and more nodes. However, overall perfomance is bad, with the best score being ~0.39 and the worst being ~-0.07\n",
    "\n",
    "## tanh sgd\n",
    "performs better with more layers and nodes. However, overall performance is bad, with the best score being ~0.46 and the worst being ~-1.13"
   ]
  }
 ],
 "metadata": {
  "interpreter": {
   "hash": "c569cd2e17f62341e0f08a54f9a867c3c0d3a6f67454072d7de41a8b5dff8343"
  },
  "kernelspec": {
   "display_name": "Python 3",
   "language": "python",
   "name": "python3"
  },
  "language_info": {
   "codemirror_mode": {
    "name": "ipython",
    "version": 3
   },
   "file_extension": ".py",
   "mimetype": "text/x-python",
   "name": "python",
   "nbconvert_exporter": "python",
   "pygments_lexer": "ipython3",
   "version": "3.9.0"
  }
 },
 "nbformat": 4,
 "nbformat_minor": 5
}
